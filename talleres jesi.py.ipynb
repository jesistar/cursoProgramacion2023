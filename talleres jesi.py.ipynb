{
  "nbformat": 4,
  "nbformat_minor": 0,
  "metadata": {
    "colab": {
      "provenance": []
    },
    "kernelspec": {
      "name": "python3",
      "display_name": "Python 3"
    },
    "language_info": {
      "name": "python"
    }
  },
  "cells": [
    {
      "cell_type": "markdown",
      "source": [
        "taller 3\n",
        "Se necesita un sistema que pida un sueldo de un\n",
        "trabajador, si el sueldo es mayor a 655000, no tedrá\n",
        "ninguna bonificación, pero si es menor tiene bonificación\n",
        "del 4%. Al final se desea saber el total del sueldo con\n",
        "o sin bonificación. Preguntar si desea ejecutar de nuevo\n",
        "el programa con el ciclo while.\n"
      ],
      "metadata": {
        "id": "aRGXpacfy3HT"
      }
    },
    {
      "cell_type": "markdown",
      "source": [
        "VARIABLE\n"
      ],
      "metadata": {
        "id": "yra5ooA6OKB3"
      }
    },
    {
      "cell_type": "code",
      "source": [
        "sueldo = int(input(\"ingrese su sueldo\"))\n",
        "\n",
        "bonificacion = 0.04 * sueldo \n",
        "pregunta = \"si\"\n",
        "while pregunta == \"si\" or pregunta == \"s\" or pregunta == \"yes\":\n",
        "  if sueldo > 655000:\n",
        "   print(\"no cuenta con bonificacion\")\n",
        "  else: \n",
        "   total = sueldo + bonificacion\n",
        "   print(f\"bonificacion es de{round(bonificacion)}y su sueldo es de {round(total)}\") \n",
        "  pregunta = input(\"desea continuar ejecutando\")"
      ],
      "metadata": {
        "colab": {
          "base_uri": "https://localhost:8080/",
          "height": 396
        },
        "id": "7ZVLyPf5zoH6",
        "outputId": "40d2d9c2-d88c-481d-f31c-ae36e027d07c"
      },
      "execution_count": null,
      "outputs": [
        {
          "output_type": "error",
          "ename": "KeyboardInterrupt",
          "evalue": "ignored",
          "traceback": [
            "\u001b[0;31m---------------------------------------------------------------------------\u001b[0m",
            "\u001b[0;31mKeyboardInterrupt\u001b[0m                         Traceback (most recent call last)",
            "\u001b[0;32m<ipython-input-13-4af057481764>\u001b[0m in \u001b[0;36m<cell line: 1>\u001b[0;34m()\u001b[0m\n\u001b[0;32m----> 1\u001b[0;31m \u001b[0msueldo\u001b[0m \u001b[0;34m=\u001b[0m \u001b[0mint\u001b[0m\u001b[0;34m(\u001b[0m\u001b[0minput\u001b[0m\u001b[0;34m(\u001b[0m\u001b[0;34m\"ingrese su sueldo\"\u001b[0m\u001b[0;34m)\u001b[0m\u001b[0;34m)\u001b[0m\u001b[0;34m\u001b[0m\u001b[0;34m\u001b[0m\u001b[0m\n\u001b[0m\u001b[1;32m      2\u001b[0m \u001b[0;34m\u001b[0m\u001b[0m\n\u001b[1;32m      3\u001b[0m \u001b[0mbonificacion\u001b[0m \u001b[0;34m=\u001b[0m \u001b[0;36m0.04\u001b[0m \u001b[0;34m*\u001b[0m \u001b[0msueldo\u001b[0m\u001b[0;34m\u001b[0m\u001b[0;34m\u001b[0m\u001b[0m\n\u001b[1;32m      4\u001b[0m \u001b[0mpregunta\u001b[0m \u001b[0;34m=\u001b[0m \u001b[0;34m\"si\"\u001b[0m\u001b[0;34m\u001b[0m\u001b[0;34m\u001b[0m\u001b[0m\n\u001b[1;32m      5\u001b[0m \u001b[0;32mwhile\u001b[0m \u001b[0mpregunta\u001b[0m \u001b[0;34m==\u001b[0m \u001b[0;34m\"si\"\u001b[0m \u001b[0;32mor\u001b[0m \u001b[0mpregunta\u001b[0m \u001b[0;34m==\u001b[0m \u001b[0;34m\"s\"\u001b[0m \u001b[0;32mor\u001b[0m \u001b[0mpregunta\u001b[0m \u001b[0;34m==\u001b[0m \u001b[0;34m\"yes\"\u001b[0m\u001b[0;34m:\u001b[0m\u001b[0;34m\u001b[0m\u001b[0;34m\u001b[0m\u001b[0m\n",
            "\u001b[0;32m/usr/local/lib/python3.10/dist-packages/ipykernel/kernelbase.py\u001b[0m in \u001b[0;36mraw_input\u001b[0;34m(self, prompt)\u001b[0m\n\u001b[1;32m    849\u001b[0m                 \u001b[0;34m\"raw_input was called, but this frontend does not support input requests.\"\u001b[0m\u001b[0;34m\u001b[0m\u001b[0;34m\u001b[0m\u001b[0m\n\u001b[1;32m    850\u001b[0m             )\n\u001b[0;32m--> 851\u001b[0;31m         return self._input_request(str(prompt),\n\u001b[0m\u001b[1;32m    852\u001b[0m             \u001b[0mself\u001b[0m\u001b[0;34m.\u001b[0m\u001b[0m_parent_ident\u001b[0m\u001b[0;34m,\u001b[0m\u001b[0;34m\u001b[0m\u001b[0;34m\u001b[0m\u001b[0m\n\u001b[1;32m    853\u001b[0m             \u001b[0mself\u001b[0m\u001b[0;34m.\u001b[0m\u001b[0m_parent_header\u001b[0m\u001b[0;34m,\u001b[0m\u001b[0;34m\u001b[0m\u001b[0;34m\u001b[0m\u001b[0m\n",
            "\u001b[0;32m/usr/local/lib/python3.10/dist-packages/ipykernel/kernelbase.py\u001b[0m in \u001b[0;36m_input_request\u001b[0;34m(self, prompt, ident, parent, password)\u001b[0m\n\u001b[1;32m    893\u001b[0m             \u001b[0;32mexcept\u001b[0m \u001b[0mKeyboardInterrupt\u001b[0m\u001b[0;34m:\u001b[0m\u001b[0;34m\u001b[0m\u001b[0;34m\u001b[0m\u001b[0m\n\u001b[1;32m    894\u001b[0m                 \u001b[0;31m# re-raise KeyboardInterrupt, to truncate traceback\u001b[0m\u001b[0;34m\u001b[0m\u001b[0;34m\u001b[0m\u001b[0m\n\u001b[0;32m--> 895\u001b[0;31m                 \u001b[0;32mraise\u001b[0m \u001b[0mKeyboardInterrupt\u001b[0m\u001b[0;34m(\u001b[0m\u001b[0;34m\"Interrupted by user\"\u001b[0m\u001b[0;34m)\u001b[0m \u001b[0;32mfrom\u001b[0m \u001b[0;32mNone\u001b[0m\u001b[0;34m\u001b[0m\u001b[0;34m\u001b[0m\u001b[0m\n\u001b[0m\u001b[1;32m    896\u001b[0m             \u001b[0;32mexcept\u001b[0m \u001b[0mException\u001b[0m \u001b[0;32mas\u001b[0m \u001b[0me\u001b[0m\u001b[0;34m:\u001b[0m\u001b[0;34m\u001b[0m\u001b[0;34m\u001b[0m\u001b[0m\n\u001b[1;32m    897\u001b[0m                 \u001b[0mself\u001b[0m\u001b[0;34m.\u001b[0m\u001b[0mlog\u001b[0m\u001b[0;34m.\u001b[0m\u001b[0mwarning\u001b[0m\u001b[0;34m(\u001b[0m\u001b[0;34m\"Invalid Message:\"\u001b[0m\u001b[0;34m,\u001b[0m \u001b[0mexc_info\u001b[0m\u001b[0;34m=\u001b[0m\u001b[0;32mTrue\u001b[0m\u001b[0;34m)\u001b[0m\u001b[0;34m\u001b[0m\u001b[0;34m\u001b[0m\u001b[0m\n",
            "\u001b[0;31mKeyboardInterrupt\u001b[0m: Interrupted by user"
          ]
        }
      ]
    },
    {
      "cell_type": "markdown",
      "source": [
        "Se necesita un sistema que despliega una tabla de\n",
        "multiplicar de un número dado por el usuario. ciclo for\n"
      ],
      "metadata": {
        "id": "yzPyAS_Q7sZ3"
      }
    },
    {
      "cell_type": "code",
      "source": [
        "num1 = int(input(\"digite numero a multiplicar: \"))\n",
        "num2 = int(input(\"tabla de multiplicar: \"))\n",
        "\n",
        "for i in range(num2+1):\n",
        "  print(i, \"*\",num1, \"=\",i * num1) "
      ],
      "metadata": {
        "colab": {
          "base_uri": "https://localhost:8080/"
        },
        "id": "MezIlpOw70nU",
        "outputId": "4d60b435-25e7-4f03-a488-04ef4362a0e3"
      },
      "execution_count": null,
      "outputs": [
        {
          "output_type": "stream",
          "name": "stdout",
          "text": [
            "digite numero a multiplicar: 5\n",
            "tabla de multiplicar: 5\n",
            "0 * 5 = 0\n",
            "1 * 5 = 5\n",
            "2 * 5 = 10\n",
            "3 * 5 = 15\n",
            "4 * 5 = 20\n",
            "5 * 5 = 25\n"
          ]
        }
      ]
    },
    {
      "cell_type": "markdown",
      "source": [
        "Crear un bucle que cuente todos los números pares hasta\n",
        "el 100 ciclo for\n"
      ],
      "metadata": {
        "id": "MOI29gk8y28T"
      }
    },
    {
      "cell_type": "code",
      "source": [
        "contar = 0\n",
        "sumar = 0\n",
        "\n",
        "pair = int(input(\"digite numero: \"))\n",
        "\n",
        "for i in range (0,pair,2):\n",
        "  contar = contar + 1\n",
        "  sumar = sumar + i\n",
        "print(f\"el total de la suma de los numeros pares del 0-100 = a {pair} es de {sumar} pares\")\n",
        " "
      ],
      "metadata": {
        "id": "ecPxylqLy1Zf",
        "colab": {
          "base_uri": "https://localhost:8080/"
        },
        "outputId": "917b9922-a7dd-4936-d23b-780443142327"
      },
      "execution_count": null,
      "outputs": [
        {
          "output_type": "stream",
          "name": "stdout",
          "text": [
            "digite numero: 100\n",
            "el total de la suma de los numeros pares del 0-100 = a 100 es de 2450 pares\n"
          ]
        }
      ]
    },
    {
      "cell_type": "code",
      "source": [
        "nombreP = \"jessica lizbeth\"\n",
        "print (nombreP)\n",
        "apellidoP = \"gonzalez garcia\"\n",
        "print (apellidoP)"
      ],
      "metadata": {
        "colab": {
          "base_uri": "https://localhost:8080/"
        },
        "id": "uD-dOyujOQtZ",
        "outputId": "b8001cdd-77cf-4839-ff2b-bbb43d20fe37"
      },
      "execution_count": null,
      "outputs": [
        {
          "output_type": "stream",
          "name": "stdout",
          "text": [
            "jessica lizbeth\n",
            "gonzalez garcia\n"
          ]
        }
      ]
    },
    {
      "cell_type": "code",
      "source": [
        "Numeroid = 35221582\n",
        "print (Numeroid)"
      ],
      "metadata": {
        "colab": {
          "base_uri": "https://localhost:8080/"
        },
        "id": "3Raa5mHW7am8",
        "outputId": "57a47e9a-c5f4-4d7f-a65e-16302f1a8842"
      },
      "execution_count": null,
      "outputs": [
        {
          "output_type": "stream",
          "name": "stdout",
          "text": [
            "35221582\n"
          ]
        }
      ]
    },
    {
      "cell_type": "code",
      "source": [
        "direccion = \"cra 7 No 183  35\"\n",
        "print (direccion)\n",
        "telefono = 3107747111\n",
        "print (telefono)\n",
        "edad = 39\n",
        "print (edad)\n",
        "estadociv = \"union libre\"\n",
        "print (estadociv)\n",
        "numerohijos = 1\n",
        "print (numerohijos)\n",
        "estaturacm = 156\n",
        "print (estaturacm)\n",
        "fechacontrato = \"21 / 04 / 2022\"\n",
        "print (fechacontrato)\n",
        "sueldoB = 2500000\n",
        "print (sueldoB)\n",
        "diaslaborados = 1\n",
        "print (diaslaborados)"
      ],
      "metadata": {
        "colab": {
          "base_uri": "https://localhost:8080/"
        },
        "id": "23Ag_coRQa_G",
        "outputId": "2b7e103c-527c-457a-efd4-b5ec97a4e1a1"
      },
      "execution_count": null,
      "outputs": [
        {
          "output_type": "stream",
          "name": "stdout",
          "text": [
            "cra 7 No 183  35\n",
            "3107747111\n",
            "39\n",
            "union libre\n",
            "1\n",
            "156\n",
            "21 / 04 / 2022\n",
            "2500000\n",
            "1\n"
          ]
        }
      ]
    }
  ]
}